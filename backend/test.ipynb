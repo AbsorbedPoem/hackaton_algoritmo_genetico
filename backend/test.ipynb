{
 "cells": [
  {
   "cell_type": "code",
   "execution_count": 4,
   "metadata": {},
   "outputs": [],
   "source": [
    "from corebrain import genAlgorithm\n",
    "from coreplotlib import create_plot, save_plot_at_location\n",
    "from matplotlib import pyplot as plt"
   ]
  },
  {
   "cell_type": "code",
   "execution_count": 5,
   "metadata": {},
   "outputs": [],
   "source": [
    "gen_system  = genAlgorithm(\n",
    "    n_indivs = 500,\n",
    "    n_generations = 50,\n",
    "    mutation_rate = 0.0005\n",
    ")\n",
    "\n",
    "gen_system.append_function(\n",
    "    function = \"38*x + 5\"\n",
    "    )\n",
    "gen_system.append_function(\n",
    "    function = \"cos(x)*500 + y**3 + 20*x\"\n",
    "    )\n",
    "gen_system.append_function(\n",
    "    function = \"0.8*((-y)+3)**3 + 4.33\"\n",
    "    )\n",
    "\n",
    "gen_system.append_limits({\n",
    "    \"x\" : [0, 10],\n",
    "    \"y\" : [0, 5]\n",
    "})\n",
    "\n",
    "gen_system.run(verbose=False)"
   ]
  },
  {
   "cell_type": "code",
   "execution_count": 6,
   "metadata": {},
   "outputs": [
    {
     "name": "stderr",
     "output_type": "stream",
     "text": [
      "MovieWriter ffmpeg unavailable; using Pillow instead.\n",
      "c:\\Users\\Usuario\\Documents\\UBA\\11vo trimestre\\Competencia\\backend\\mixplot.py:72: UserWarning: FigureCanvasAgg is non-interactive, and thus cannot be shown\n",
      "  plt.show()\n"
     ]
    }
   ],
   "source": [
    "import mixplot\n",
    "\n",
    "mixplot.create_mix_plot()"
   ]
  }
 ],
 "metadata": {
  "kernelspec": {
   "display_name": "venv",
   "language": "python",
   "name": "python3"
  },
  "language_info": {
   "codemirror_mode": {
    "name": "ipython",
    "version": 3
   },
   "file_extension": ".py",
   "mimetype": "text/x-python",
   "name": "python",
   "nbconvert_exporter": "python",
   "pygments_lexer": "ipython3",
   "version": "3.11.3"
  }
 },
 "nbformat": 4,
 "nbformat_minor": 2
}
