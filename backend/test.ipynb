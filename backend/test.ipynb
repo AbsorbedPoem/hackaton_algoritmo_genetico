{
 "cells": [
  {
   "cell_type": "code",
   "execution_count": 1,
   "metadata": {},
   "outputs": [],
   "source": [
    "from corebrain import genAlgorithm\n",
    "from coreplotlib import create_plot, save_plot_at_location\n",
    "from matplotlib import pyplot as plt"
   ]
  },
  {
   "cell_type": "code",
   "execution_count": 2,
   "metadata": {},
   "outputs": [],
   "source": [
    "gen_system  = genAlgorithm(\n",
    "    n_indivs = 100,\n",
    "    n_generations = 100,\n",
    "    limits = [-10, 10]\n",
    ")\n",
    "\n",
    "gen_system.append_function(\n",
    "    function = \"38*x + 5\"\n",
    "    )\n",
    "gen_system.append_function(\n",
    "    function = \"cos(x/5) + y**3 + 5\"\n",
    "    )\n",
    "gen_system.append_function(\n",
    "    function = \"38*(y-13.5)**3 + 4.33\"\n",
    "    )\n",
    "\n",
    "gen_system.create_population()\n",
    "\n",
    "gen_system.run(verbose=False)"
   ]
  },
  {
   "cell_type": "code",
   "execution_count": 3,
   "metadata": {},
   "outputs": [],
   "source": [
    "# fig = create_plot(\n",
    "#     f = gen_system.functions[1],\n",
    "#     name = 'Superficie',\n",
    "#     limits = gen_system.limits\n",
    "#     )\n",
    "# save_plot_at_location(fig, \"foo\", 200)\n",
    "# plt.show()"
   ]
  }
 ],
 "metadata": {
  "kernelspec": {
   "display_name": "venv",
   "language": "python",
   "name": "python3"
  },
  "language_info": {
   "codemirror_mode": {
    "name": "ipython",
    "version": 3
   },
   "file_extension": ".py",
   "mimetype": "text/x-python",
   "name": "python",
   "nbconvert_exporter": "python",
   "pygments_lexer": "ipython3",
   "version": "3.11.3"
  }
 },
 "nbformat": 4,
 "nbformat_minor": 2
}
