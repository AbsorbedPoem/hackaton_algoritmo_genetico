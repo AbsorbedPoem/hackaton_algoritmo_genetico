{
 "cells": [
  {
   "cell_type": "code",
   "execution_count": 1,
   "metadata": {},
   "outputs": [],
   "source": [
    "from corebrain import genAlgorithm"
   ]
  },
  {
   "cell_type": "code",
   "execution_count": 2,
   "metadata": {},
   "outputs": [
    {
     "name": "stdout",
     "output_type": "stream",
     "text": [
      "[-292.944068141937, -1340.67872742663, 10.3156107705834, -289.013220225910, 382.659372320123, 560.474678358492, -1534.87349511570, -504.007974621256, -1788.06736547335, -189.008735798106]\n"
     ]
    },
    {
     "ename": "TypeError",
     "evalue": "unsupported operand type(s) for -=: 'list' and 'Float'",
     "output_type": "error",
     "traceback": [
      "\u001b[1;31m---------------------------------------------------------------------------\u001b[0m",
      "\u001b[1;31mTypeError\u001b[0m                                 Traceback (most recent call last)",
      "Cell \u001b[1;32mIn[2], line 18\u001b[0m\n\u001b[0;32m     12\u001b[0m gen_system\u001b[38;5;241m.\u001b[39mappend_function(\n\u001b[0;32m     13\u001b[0m     function \u001b[38;5;241m=\u001b[39m \u001b[38;5;124m\"\u001b[39m\u001b[38;5;124m38*y\u001b[39m\u001b[38;5;124m\"\u001b[39m\n\u001b[0;32m     14\u001b[0m     )\n\u001b[0;32m     16\u001b[0m gen_system\u001b[38;5;241m.\u001b[39mcreate_population()\n\u001b[1;32m---> 18\u001b[0m \u001b[43mgen_system\u001b[49m\u001b[38;5;241;43m.\u001b[39;49m\u001b[43mnext_gen\u001b[49m\u001b[43m(\u001b[49m\u001b[43m)\u001b[49m\n",
      "File \u001b[1;32mc:\\Users\\Usuario\\Documents\\UBA\\11vo trimestre\\Competencia\\backend\\corebrain.py:164\u001b[0m, in \u001b[0;36mgenAlgorithm.next_gen\u001b[1;34m(self)\u001b[0m\n\u001b[0;32m    161\u001b[0m \u001b[38;5;28mprint\u001b[39m(scores)\n\u001b[0;32m    163\u001b[0m \u001b[38;5;66;03m# los pesos deben estar normalizados para usar el algoritmo de selección\u001b[39;00m\n\u001b[1;32m--> 164\u001b[0m \u001b[43mscores\u001b[49m\u001b[43m \u001b[49m\u001b[38;5;241;43m-\u001b[39;49m\u001b[38;5;241;43m=\u001b[39;49m\u001b[43m \u001b[49m\u001b[43mnp\u001b[49m\u001b[38;5;241;43m.\u001b[39;49m\u001b[43mamin\u001b[49m\u001b[43m(\u001b[49m\u001b[43mscores\u001b[49m\u001b[43m)\u001b[49m\n\u001b[0;32m    165\u001b[0m \u001b[38;5;28;01mif\u001b[39;00m scores\u001b[38;5;241m.\u001b[39msum() \u001b[38;5;241m==\u001b[39m \u001b[38;5;241m0.0\u001b[39m:\n\u001b[0;32m    166\u001b[0m     \u001b[38;5;28;01mreturn\u001b[39;00m\n",
      "\u001b[1;31mTypeError\u001b[0m: unsupported operand type(s) for -=: 'list' and 'Float'"
     ]
    }
   ],
   "source": [
    "gen_system  = genAlgorithm(\n",
    "    n_indivs = 10,\n",
    "    limits = [-30, 30]\n",
    ")\n",
    "\n",
    "gen_system.append_function(\n",
    "    function = \"38*x + 5\"\n",
    "    )\n",
    "gen_system.append_function(\n",
    "    function = \"cos(x) + 5\"\n",
    "    )\n",
    "gen_system.append_function(\n",
    "    function = \"38*y\"\n",
    "    )\n",
    "\n",
    "gen_system.create_population()\n",
    "\n",
    "gen_system.next_gen()\n"
   ]
  }
 ],
 "metadata": {
  "kernelspec": {
   "display_name": "venv",
   "language": "python",
   "name": "python3"
  },
  "language_info": {
   "codemirror_mode": {
    "name": "ipython",
    "version": 3
   },
   "file_extension": ".py",
   "mimetype": "text/x-python",
   "name": "python",
   "nbconvert_exporter": "python",
   "pygments_lexer": "ipython3",
   "version": "3.11.3"
  }
 },
 "nbformat": 4,
 "nbformat_minor": 2
}
