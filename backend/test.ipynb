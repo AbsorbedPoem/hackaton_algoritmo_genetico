{
 "cells": [
  {
   "cell_type": "code",
   "execution_count": 1,
   "metadata": {},
   "outputs": [],
   "source": [
    "from corebrain import genAlgorithm"
   ]
  },
  {
   "cell_type": "code",
   "execution_count": 2,
   "metadata": {},
   "outputs": [
    {
     "name": "stdout",
     "output_type": "stream",
     "text": [
      "[0.132444390639612 0.128292693492384 0.0780589619667145 0.0756579675910863\n",
      " 0.163402525488320 0.106116936551044 0.0267682754219539 0\n",
      " 0.111219484204899 0.178038764643987]\n"
     ]
    },
    {
     "ename": "TypeError",
     "evalue": "Cannot cast array data from dtype('O') to dtype('float64') according to the rule 'safe'",
     "output_type": "error",
     "traceback": [
      "\u001b[1;31m---------------------------------------------------------------------------\u001b[0m",
      "\u001b[1;31mTypeError\u001b[0m                                 Traceback (most recent call last)",
      "Cell \u001b[1;32mIn[2], line 18\u001b[0m\n\u001b[0;32m     12\u001b[0m gen_system\u001b[38;5;241m.\u001b[39mappend_function(\n\u001b[0;32m     13\u001b[0m     function \u001b[38;5;241m=\u001b[39m \u001b[38;5;124m\"\u001b[39m\u001b[38;5;124m38*y\u001b[39m\u001b[38;5;124m\"\u001b[39m\n\u001b[0;32m     14\u001b[0m     )\n\u001b[0;32m     16\u001b[0m gen_system\u001b[38;5;241m.\u001b[39mcreate_population()\n\u001b[1;32m---> 18\u001b[0m \u001b[43mgen_system\u001b[49m\u001b[38;5;241;43m.\u001b[39;49m\u001b[43mnext_gen\u001b[49m\u001b[43m(\u001b[49m\u001b[43m)\u001b[49m\n",
      "File \u001b[1;32mc:\\Users\\Usuario\\Documents\\UBA\\11vo trimestre\\Competencia\\backend\\corebrain.py:178\u001b[0m, in \u001b[0;36mgenAlgorithm.next_gen\u001b[1;34m(self)\u001b[0m\n\u001b[0;32m    174\u001b[0m prin \u001b[38;5;241m=\u001b[39m \u001b[38;5;28;01mTrue\u001b[39;00m\n\u001b[0;32m    176\u001b[0m \u001b[38;5;28;01mfor\u001b[39;00m _ \u001b[38;5;129;01min\u001b[39;00m \u001b[38;5;28mself\u001b[39m\u001b[38;5;241m.\u001b[39mpopulation:\n\u001b[0;32m    177\u001b[0m     \u001b[38;5;66;03m# se seleccionan los padres en base a la distribucion de probabilidad dada por lo pesos\u001b[39;00m\n\u001b[1;32m--> 178\u001b[0m     parents \u001b[38;5;241m=\u001b[39m \u001b[38;5;28mlist\u001b[39m(np\u001b[38;5;241m.\u001b[39mrandom\u001b[38;5;241m.\u001b[39mchoice(\u001b[38;5;28mlen\u001b[39m(\u001b[38;5;28mself\u001b[39m\u001b[38;5;241m.\u001b[39mpopulation), \u001b[38;5;241m2\u001b[39m, p \u001b[38;5;241m=\u001b[39m scores))\n\u001b[0;32m    179\u001b[0m     \u001b[38;5;66;03m# efectuacion de la particion binara y la mutacion para cada par de padres seleccionado\u001b[39;00m\n\u001b[0;32m    180\u001b[0m     new_indiv \u001b[38;5;241m=\u001b[39m \u001b[38;5;28mself\u001b[39m\u001b[38;5;241m.\u001b[39mbinary_fision(parents)\n",
      "File \u001b[1;32mnumpy\\\\random\\\\mtrand.pyx:961\u001b[0m, in \u001b[0;36mnumpy.random.mtrand.RandomState.choice\u001b[1;34m()\u001b[0m\n",
      "\u001b[1;31mTypeError\u001b[0m: Cannot cast array data from dtype('O') to dtype('float64') according to the rule 'safe'"
     ]
    }
   ],
   "source": [
    "gen_system  = genAlgorithm(\n",
    "    n_indivs = 10,\n",
    "    limits = [-30, 30]\n",
    ")\n",
    "\n",
    "gen_system.append_function(\n",
    "    function = \"38*x + 5\"\n",
    "    )\n",
    "gen_system.append_function(\n",
    "    function = \"cos(x) + 5\"\n",
    "    )\n",
    "gen_system.append_function(\n",
    "    function = \"38*y\"\n",
    "    )\n",
    "\n",
    "gen_system.create_population()\n",
    "\n",
    "gen_system.next_gen()\n"
   ]
  }
 ],
 "metadata": {
  "kernelspec": {
   "display_name": "venv",
   "language": "python",
   "name": "python3"
  },
  "language_info": {
   "codemirror_mode": {
    "name": "ipython",
    "version": 3
   },
   "file_extension": ".py",
   "mimetype": "text/x-python",
   "name": "python",
   "nbconvert_exporter": "python",
   "pygments_lexer": "ipython3",
   "version": "3.11.3"
  }
 },
 "nbformat": 4,
 "nbformat_minor": 2
}
