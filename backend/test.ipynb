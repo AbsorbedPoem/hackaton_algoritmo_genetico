{
 "cells": [
  {
   "cell_type": "code",
   "execution_count": 1,
   "metadata": {},
   "outputs": [],
   "source": [
    "from corebrain import genAlgorithm"
   ]
  },
  {
   "cell_type": "code",
   "execution_count": 2,
   "metadata": {},
   "outputs": [
    {
     "name": "stdout",
     "output_type": "stream",
     "text": [
      "[0.21891459 0.1382929  0.11404965 0.00637905 0.02781063 0.22219002\n",
      " 0.0740382  0.15551665 0.0428083  0.        ]\n",
      "0\n",
      "1\n",
      "[[-1, -8, -8, -1, -2, 4, -5, 9, 7, -7, -7, -8, -8, 7, -4], [12, -9, -5, -1, 1, -4, -4, -9, -3, -5, -5, 2, -9, 1, -8]]\n",
      "[[-1, -8, -8, -1, -2, 4, -5, 9, 7, -7, -7, -8, -8, 7, -6], [12, -9, -5, -1, 1, -4, -4, -9, -3, 1, 7, 2, -9, 0, 2]]\n",
      "0\n",
      "1\n",
      "0\n",
      "1\n",
      "0\n",
      "1\n",
      "0\n",
      "1\n",
      "0\n",
      "1\n",
      "0\n",
      "1\n",
      "0\n",
      "1\n",
      "0\n",
      "1\n",
      "0\n",
      "1\n"
     ]
    }
   ],
   "source": [
    "gen_system  = genAlgorithm(\n",
    "    n_indivs = 10,\n",
    "    limits = [-30, 30]\n",
    ")\n",
    "\n",
    "gen_system.append_function(\n",
    "    function = \"38*x + 5\"\n",
    "    )\n",
    "gen_system.append_function(\n",
    "    function = \"cos(x) + 5\"\n",
    "    )\n",
    "gen_system.append_function(\n",
    "    function = \"38*y\"\n",
    "    )\n",
    "\n",
    "gen_system.create_population()\n",
    "\n",
    "gen_system.next_gen()\n"
   ]
  }
 ],
 "metadata": {
  "kernelspec": {
   "display_name": "venv",
   "language": "python",
   "name": "python3"
  },
  "language_info": {
   "codemirror_mode": {
    "name": "ipython",
    "version": 3
   },
   "file_extension": ".py",
   "mimetype": "text/x-python",
   "name": "python",
   "nbconvert_exporter": "python",
   "pygments_lexer": "ipython3",
   "version": "3.11.3"
  }
 },
 "nbformat": 4,
 "nbformat_minor": 2
}
